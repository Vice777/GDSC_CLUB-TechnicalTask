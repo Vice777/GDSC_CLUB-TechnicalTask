{
 "cells": [
  {
   "cell_type": "markdown",
   "id": "1f723281",
   "metadata": {},
   "source": [
    "# Task-1:\n",
    "Choose any one deep learning algorithm of your choice and try to\n",
    "implement it from scratch.\n",
    "Important points:\n",
    "<ul>\n",
    "● You can use modules like JAX, Numpy, etc. for your\n",
    "implementations.<br>\n",
    "● You should be able to explain the mathematical concept\n",
    "behind your implementation.<br>\n",
    " </ul>\n",
    "Judging Criteria:<br>\n",
    "● Structure of your code.<br>\n",
    "● Math and code implementation.<br>\n",
    "<br>\n",
    "Take the given Implementation as a reference: Link <br>\n",
    "\n",
    "Note: For your reference, the link attached herewith shows implementations\n",
    "of a few ML algorithms. However, the task is to implement DL algorithms\n",
    "from scratch.<br>\n",
    "\n",
    "A few of the DL algorithms you can implement but are not limited\n",
    "to are Multi-layer perceptron, Convolutional Neural Nets,\n",
    "Recurrent Neural Nets, etc."
   ]
  },
  {
   "cell_type": "code",
   "execution_count": null,
   "id": "67ca3c59",
   "metadata": {},
   "outputs": [],
   "source": []
  }
 ],
 "metadata": {
  "kernelspec": {
   "display_name": "Python 3 (ipykernel)",
   "language": "python",
   "name": "python3"
  },
  "language_info": {
   "codemirror_mode": {
    "name": "ipython",
    "version": 3
   },
   "file_extension": ".py",
   "mimetype": "text/x-python",
   "name": "python",
   "nbconvert_exporter": "python",
   "pygments_lexer": "ipython3",
   "version": "3.10.2"
  }
 },
 "nbformat": 4,
 "nbformat_minor": 5
}
